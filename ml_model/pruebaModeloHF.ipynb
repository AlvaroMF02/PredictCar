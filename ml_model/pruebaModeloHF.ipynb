{
 "cells": [
  {
   "cell_type": "code",
   "execution_count": 1,
   "id": "3296a45a",
   "metadata": {},
   "outputs": [
    {
     "name": "stderr",
     "output_type": "stream",
     "text": [
      "c:\\Users\\alvar\\AppData\\Local\\Programs\\Python\\Python310\\lib\\site-packages\\tqdm\\auto.py:21: TqdmWarning: IProgress not found. Please update jupyter and ipywidgets. See https://ipywidgets.readthedocs.io/en/stable/user_install.html\n",
      "  from .autonotebook import tqdm as notebook_tqdm\n"
     ]
    }
   ],
   "source": [
    "from transformers import pipeline\n",
    "from deep_translator import GoogleTranslator"
   ]
  },
  {
   "cell_type": "code",
   "execution_count": null,
   "id": "b68205cc",
   "metadata": {},
   "outputs": [
    {
     "name": "stderr",
     "output_type": "stream",
     "text": [
      "Device set to use cpu\n"
     ]
    },
    {
     "name": "stdout",
     "output_type": "stream",
     "text": [
      "Frase original: me alegra mucho que haya paginas asi\n",
      "Traducción: I'm very happy that there are pages like this\n",
      "Emoción detectada (modelo BERT): joy\n"
     ]
    }
   ],
   "source": [
    "# Modelos de la web Hugging Face\n",
    "# bhadresh-savani/bert-base-uncased-emotion\n",
    "# nateraw/bert-base-uncased-emotion\n",
    "\n",
    "\n",
    "# Traducir frase al inglés\n",
    "frase = \"me alegra mucho que haya paginas asi\"\n",
    "frase_en = GoogleTranslator(source='auto', target='en').translate(frase)\n",
    "\n",
    "# Cargar pipeline de Hugging Face\n",
    "clasificador = pipeline(\"text-classification\", model=\"nateraw/bert-base-uncased-emotion\")\n",
    "\n",
    "# Predecir emoción\n",
    "resultado = clasificador(frase_en)\n",
    "\n",
    "# Mostrar resultado\n",
    "print(\"Frase original:\", frase)\n",
    "print(\"Traducción:\", frase_en)\n",
    "print(\"Emoción detectada:\", resultado[0]['label'])\n"
   ]
  },
  {
   "cell_type": "code",
   "execution_count": null,
   "id": "6b1b5bd8",
   "metadata": {},
   "outputs": [
    {
     "name": "stderr",
     "output_type": "stream",
     "text": [
      "Device set to use cpu\n"
     ]
    },
    {
     "name": "stdout",
     "output_type": "stream",
     "text": [
      "sadness: 0.97\n",
      "fear: 0.02\n",
      "joy: 0.00\n",
      "anger: 0.00\n",
      "love: 0.00\n",
      "surprise: 0.00\n"
     ]
    }
   ],
   "source": [
    "# Prueba para ver cuantas emociones coge el modelo\n",
    "resultado = clasificador(\"I don't know what to feel anymore\", top_k=None)\n",
    "\n",
    "for emocion in resultado:\n",
    "    print(f\"{emocion['label']}: {emocion['score']:.2f}\")\n"
   ]
  }
 ],
 "metadata": {
  "kernelspec": {
   "display_name": "Python 3",
   "language": "python",
   "name": "python3"
  },
  "language_info": {
   "codemirror_mode": {
    "name": "ipython",
    "version": 3
   },
   "file_extension": ".py",
   "mimetype": "text/x-python",
   "name": "python",
   "nbconvert_exporter": "python",
   "pygments_lexer": "ipython3",
   "version": "3.10.0"
  }
 },
 "nbformat": 4,
 "nbformat_minor": 5
}
