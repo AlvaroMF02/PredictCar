{
 "cells": [
  {
   "cell_type": "code",
   "execution_count": null,
   "id": "eb0cce85",
   "metadata": {},
   "outputs": [],
   "source": [
    "import mysql.connector"
   ]
  },
  {
   "cell_type": "code",
   "execution_count": null,
   "id": "fd831f2e",
   "metadata": {},
   "outputs": [],
   "source": [
    "# Conexion\n",
    "conn = mysql.connector.connect(\n",
    "    user=\"alv_mar\",\n",
    "    password=\"16_alv_mar_93\",\n",
    "    host=\"82.165.173.36\",\n",
    "    port=\"31234\"\n",
    ")\n",
    "c = conn.cursor()"
   ]
  },
  {
   "cell_type": "code",
   "execution_count": null,
   "id": "c9e789dd",
   "metadata": {},
   "outputs": [
    {
     "name": "stdout",
     "output_type": "stream",
     "text": [
      "Base de datos y tablas creadas correctamente.\n"
     ]
    }
   ],
   "source": [
    "# Usar la bd de Rodolfo\n",
    "c.execute(\"USE bd_alv_mar_graf1\")\n",
    "conn.commit()\n",
    "\n",
    "# Creacion de tablas\n",
    "c.execute('''\n",
    "CREATE TABLE IF NOT EXISTS experimentos (\n",
    "    id INT AUTO_INCREMENT PRIMARY KEY,\n",
    "    modelo VARCHAR(50),\n",
    "    fecha DATETIME DEFAULT CURRENT_TIMESTAMP\n",
    ");\n",
    "''')\n",
    "\n",
    "c.execute('''\n",
    "CREATE TABLE IF NOT EXISTS metricas_modelos (\n",
    "    id INT AUTO_INCREMENT PRIMARY KEY,\n",
    "    id_experimento INT,\n",
    "    r2 FLOAT,\n",
    "    mae FLOAT,\n",
    "    rmse FLOAT,\n",
    "    FOREIGN KEY (id_experimento) REFERENCES experimentos(id)\n",
    ");\n",
    "''')\n",
    "\n",
    "conn.commit()"
   ]
  },
  {
   "cell_type": "code",
   "execution_count": null,
   "id": "6fe1d1d1",
   "metadata": {},
   "outputs": [
    {
     "name": "stdout",
     "output_type": "stream",
     "text": [
      "Todos los modelos guardados correctamente.\n"
     ]
    }
   ],
   "source": [
    "# Modelos y las metricas que han dado\n",
    "modelos = [\n",
    "    (\"Decision Tree\", 0.661, 4339.98, 6483.49),\n",
    "    (\"Gradient Boosting\", 0.763, 3265.88, 5469.47),\n",
    "    (\"XGBoost\", 0.778, 3087.79, 5291.72),\n",
    "    (\"Random Forest\", 0.835, 2777.78, 4888.08)\n",
    "]\n",
    "\n",
    "# Insercion de cada modelo en la tabla\n",
    "for modelo, r2, mae, rmse in modelos:\n",
    "    c.execute(\"INSERT INTO experimentos (modelo) VALUES (%s)\", (modelo,))\n",
    "    conn.commit()\n",
    "    id_exp = c.lastrowid\n",
    "\n",
    "    # Insercion de las metricas\n",
    "    c.execute(\"\"\"\n",
    "        INSERT INTO metricas_modelos (id_experimento, r2, mae, rmse)\n",
    "        VALUES (%s, %s, %s, %s)\n",
    "    \"\"\", (id_exp, r2, mae, rmse))\n",
    "    conn.commit()\n",
    "\n",
    "print(\"Todos los modelos guardados correctamente.\")\n",
    "\n",
    "c.close()\n",
    "conn.close()"
   ]
  }
 ],
 "metadata": {
  "kernelspec": {
   "display_name": "Python 3",
   "language": "python",
   "name": "python3"
  },
  "language_info": {
   "codemirror_mode": {
    "name": "ipython",
    "version": 3
   },
   "file_extension": ".py",
   "mimetype": "text/x-python",
   "name": "python",
   "nbconvert_exporter": "python",
   "pygments_lexer": "ipython3",
   "version": "3.10.0"
  }
 },
 "nbformat": 4,
 "nbformat_minor": 5
}
